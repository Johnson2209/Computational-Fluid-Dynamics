{
 "cells": [
  {
   "cell_type": "code",
   "execution_count": 1,
   "metadata": {},
   "outputs": [
    {
     "ename": "ModuleNotFoundError",
     "evalue": "No module named 'TwoDimBoussinesq'",
     "output_type": "error",
     "traceback": [
      "\u001b[0;31m---------------------------------------------------------------------------\u001b[0m",
      "\u001b[0;31mModuleNotFoundError\u001b[0m                       Traceback (most recent call last)",
      "\u001b[0;32m<ipython-input-1-7ba579bb2454>\u001b[0m in \u001b[0;36m<module>\u001b[0;34m\u001b[0m\n\u001b[1;32m      2\u001b[0m \u001b[0;32mfrom\u001b[0m \u001b[0mnumpy\u001b[0m \u001b[0;32mimport\u001b[0m \u001b[0mpi\u001b[0m\u001b[0;34m,\u001b[0m \u001b[0mcos\u001b[0m\u001b[0;34m,\u001b[0m \u001b[0msin\u001b[0m\u001b[0;34m,\u001b[0m \u001b[0mcosh\u001b[0m\u001b[0;34m,\u001b[0m \u001b[0mtanh\u001b[0m\u001b[0;34m\u001b[0m\u001b[0;34m\u001b[0m\u001b[0m\n\u001b[1;32m      3\u001b[0m \u001b[0;32mimport\u001b[0m \u001b[0mmatplotlib\u001b[0m\u001b[0;34m.\u001b[0m\u001b[0mpyplot\u001b[0m \u001b[0;32mas\u001b[0m \u001b[0mplt\u001b[0m\u001b[0;34m\u001b[0m\u001b[0;34m\u001b[0m\u001b[0m\n\u001b[0;32m----> 4\u001b[0;31m \u001b[0;32mfrom\u001b[0m \u001b[0mTwoDimBoussinesq\u001b[0m \u001b[0;32mimport\u001b[0m \u001b[0mspectral_model\u001b[0m \u001b[0;32mas\u001b[0m \u001b[0mmodel\u001b[0m\u001b[0;34m\u001b[0m\u001b[0;34m\u001b[0m\u001b[0m\n\u001b[0m\u001b[1;32m      5\u001b[0m \u001b[0;34m\u001b[0m\u001b[0m\n\u001b[1;32m      6\u001b[0m \u001b[0msech\u001b[0m \u001b[0;34m=\u001b[0m \u001b[0;32mlambda\u001b[0m \u001b[0mx\u001b[0m\u001b[0;34m:\u001b[0m \u001b[0;36m1.\u001b[0m\u001b[0;34m/\u001b[0m\u001b[0mnp\u001b[0m\u001b[0;34m.\u001b[0m\u001b[0mcosh\u001b[0m\u001b[0;34m(\u001b[0m\u001b[0mx\u001b[0m\u001b[0;34m)\u001b[0m\u001b[0;34m\u001b[0m\u001b[0;34m\u001b[0m\u001b[0m\n",
      "\u001b[0;31mModuleNotFoundError\u001b[0m: No module named 'TwoDimBoussinesq'"
     ]
    }
   ],
   "source": [
    "import numpy as np\n",
    "from numpy import pi, cos, sin, cosh, tanh\n",
    "import matplotlib.pyplot as plt\n",
    "from TwoDimBoussinesq import spectral_model as model\n",
    "\n",
    "sech = lambda x: 1./np.cosh(x)\n",
    "\n",
    "reload(model)\n",
    "\n",
    "Fr =  0.1\n",
    "Fr2 = Fr**2\n",
    "Reb = 100\n",
    "\n",
    "# the model object\n",
    "m = model.Boussinesq2d(Lx=2.*np.pi,nx=128, tmax = 10, dt = 0.001, \\\n",
    "        use_fftw=True,ntd=4,Fr=Fr,use_filter=True,tsave=100,\n",
    "        twrite=100,nu=Fr2/Reb,sig=1.e5,kf=25,\n",
    "        save_snapshots=True,\n",
    "        tsave_snapshots=1,\n",
    "        ext_forc=True)\n",
    "\n",
    "# run the model and plot some figs\n",
    "plt.rcParams['image.cmap'] = 'RdBu'\n",
    "\n",
    "plt.ion()\n",
    "\n",
    "# forcing q\n",
    "m0 = 3.\n",
    "A0 = 1/2.\n",
    "ep = pi/2.\n",
    "zmin,zmax = pi-ep,pi+ep\n",
    "\n",
    "# initial conditions\n",
    "sig = 1.e-7\n",
    "qi = sig*np.random.randn(m.nx,m.nx)\n",
    "bi = sig*np.random.randn(m.nx,m.nx)\n",
    "\n",
    "qi = qi\n",
    "m.set_q(qi)\n",
    "m.set_b(bi)\n",
    "\n",
    "# forcing in the vorticity equation\n",
    "#fq = ( (m0**3) / (Reb/Fr2))*cos(m0*m.y)\n",
    "fq = cos(m0*m.z)\n",
    "m.set_forcing(fq)\n",
    "\n",
    "m.run()\n",
    "\n",
    "#for snapshot in m.run_with_snapshots(tsnapstart=0, tsnapint=100*m.dt):\n",
    "#\n",
    "#    plt.clf()\n",
    "#    p1 = plt.contourf(m.q,np.linspace(-30,30,15))\n",
    "#    plt.clim([-30., 30.])\n",
    "#    plt.title('t='+str(m.t))\n",
    "#\n",
    "#    plt.xticks([])\n",
    "#    plt.yticks([])\n",
    "#\n",
    "#    plt.pause(0.001)\n",
    "#\n",
    "#    plt.draw()\n",
    "#\n",
    "#plt.show()\n",
    "#plt.ion()"
   ]
  },
  {
   "cell_type": "code",
   "execution_count": null,
   "metadata": {},
   "outputs": [],
   "source": [
    "import sys\n",
    "import glob\n",
    "import h5py\n",
    "import numpy as np\n",
    "import matplotlib.pyplot as plt\n",
    "\n",
    "simulation = \"output\"\n",
    "pathi = simulation+\"/snapshots/\"\n",
    "model =  h5py.File(simulation+\"/setup.h5\",'r')\n",
    "diags =  h5py.File(simulation+\"/diagnostics.h5\",'r')\n"
   ]
  }
 ],
 "metadata": {
  "kernelspec": {
   "display_name": "Python 3",
   "language": "python",
   "name": "python3"
  },
  "language_info": {
   "codemirror_mode": {
    "name": "ipython",
    "version": 3
   },
   "file_extension": ".py",
   "mimetype": "text/x-python",
   "name": "python",
   "nbconvert_exporter": "python",
   "pygments_lexer": "ipython3",
   "version": "3.6.9"
  }
 },
 "nbformat": 4,
 "nbformat_minor": 4
}
